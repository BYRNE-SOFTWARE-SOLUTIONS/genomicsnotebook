{
 "cells": [
  {
   "cell_type": "markdown",
   "metadata": {},
   "source": [
    "# RadioGenomics analysis pipeline\n",
    "In this notebook, we provide a pipeline to perform disease subtype analysis with radiogenomics data. <br>\n",
    "#### The data required to run this notebook: \n",
    "1. The image data in DICOM format.<br>\n",
    "For more information on the format: <a>https://www.dicomstandard.org/</a>. <br>\n",
    "If segmentation or region of  interest (ROI) is provided, we provide script to extract pre-defined radiomic features. <br>\n",
    "The radiomic features are defined here: <br>\n",
    "If no segmentation of ROI is provided, we recomend either (a) provide a custom feature extractor, or (b) extract features over the entire series. <br>\n",
    "2. Genetic variant in VCF format.(Optional)\n",
    "3. Gene expression data. (Optional)\n",
    "#### Here is the coverage of this notebook: \n",
    "1. Extract radiomic feature using our provided script. \n",
    "2. Perform feature selection on radiomic, variant and gene expression data. \n",
    "3. Merging features to perform disease sub-type analysis. \n",
    "4. (Optional) A validation of clustering if true sub-type information is given. \n",
    "#### Dependencies: \n",
    "The notebook requires the following libraries: <br>\n",
    "GATK <br>\n",
    "Azure CLI <br>\n",
    "Pydicom <a>https://pydicom.github.io/pydicom/stable/</a>"
   ]
  },
  {
   "cell_type": "markdown",
   "metadata": {},
   "source": [
    "## 0. Dependencies\r\n",
    "Notice src/utils.py is a provided helper code. ,<a>https://github.com/microsoft/genomicsnotebook/blob/main/docs/utils.py</a>\r\n",
    "It contains: \r\n",
    "1. Helper functions to use. \r\n",
    "2. DICOM_sample, which is a provided helper data structure that extract the predifined radiomic featur\n",
    "\n",
    "For more information about Pydicom: <a>https://pydicom.github.io/</a>. \r\n"
   ]
  },
  {
   "cell_type": "code",
   "execution_count": null,
   "metadata": {
    "gather": {
     "logged": 1630441099667
    }
   },
   "outputs": [],
   "source": [
    "pip install pydicom"
   ]
  },
  {
   "cell_type": "code",
   "execution_count": 1,
   "metadata": {
    "gather": {
     "logged": 1630441101816
    }
   },
   "outputs": [],
   "source": [
    "#loading requried packages \r\n",
    "#for parsing data locations\r\n",
    "import glob\r\n",
    "\r\n",
    "#for analysis\r\n",
    "import matplotlib.pylab as plt \r\n",
    "import pandas as pd\r\n",
    "import numpy a Dataset\r\n",
    "\r\n",
    "#for feature extraction: \r\n",
    "import pydicom as dicom \r\n",
    "from src.utils import *\r\n",
    "from src.utils import dicom_sample\r\n"
   ]
  },
  {
   "cell_type": "markdown",
   "metadata": {
    "nteract": {
     "transient": {
      "deleting": false
     }
    }
   },
   "source": [
    "## 1. Extracting DICOM file feature \r\n",
    "To run this cell, change the varaible __data_path*__ accordingly. This should be the root of image data location.<br>\r\n",
    "This cell will recursively find the locations of all the relevant image (and segmentation if appliable) and output the target location. \r\n"
   ]
  },
  {
   "cell_type": "code",
   "execution_count": null,
   "metadata": {
    "gather": {
     "logged": 1630441358952
    },
    "nteract": {
     "transient": {
      "deleting": false
     }
    }
   },
   "outputs": [],
   "source": [
    "#getting the path of CT and segmentations \r\n",
    "data_root1 = './dataImageID1*'\r\n",
    "g= glob.glob(data_root1) \r\n",
    "#sample size\r\n",
    "N = len(g)\r\n",
    "filmpath = [] \r\n",
    "for path in g:\r\n",
    "    for film in glob.glob(path+\"/*\"):\r\n",
    "        if (\"-CT\" in film):\r\n",
    "            print (film)\r\n",
    "            filmpath.append(film)\r\n",
    "            break\r\n",
    "        if any (\"segmentation\" in subpath for subpath in glob.glob(film+\"/*\")):\r\n",
    "            print (film)\r\n",
    "            filmpath.append(film)\r\n",
    "            break\r\n",
    "    \r\n"
   ]
  },
  {
   "cell_type": "markdown",
   "metadata": {},
   "source": [
    "Given the target locations from the previous cell, __src/utils.py__ will take in the locations and extract the radiomic features while loading images. The features will be stored in a dataframe named __ dicom_feature_df__. "
   ]
  },
  {
   "cell_type": "code",
   "execution_count": null,
   "metadata": {
    "gather": {
     "logged": 1630441456910
    },
    "nteract": {
     "transient": {
      "deleting": false
     }
    }
   },
   "outputs": [],
   "source": [
    "samples = []\r\n",
    "for i in filmpath:\r\n",
    "    print(i)\r\n",
    "    sample = dicom_sample(i)\r\n",
    "    if(sample.sample_id):\r\n",
    "        print (sample.sample_id)\r\n",
    "        samples.append(sample)\r\n",
    "        \r\n",
    "m_dict={}\r\n",
    "for i in samples:\r\n",
    "    i.getfeature() \r\n",
    "    features = np.concatenate((i.firstorderfeature, i.shapefeature))\r\n",
    "    if features.shape[0] !=0: \r\n",
    "        m_dict[i.sample_id] = features\r\n",
    "\r\n",
    "dicom_feature_df = pd.DataFrame(m_dict).transpose() "
   ]
  },
  {
   "cell_type": "markdown",
   "metadata": {},
   "source": [
    "(Optional) Save the extracted features for replicated usage. \r\n"
   ]
  },
  {
   "cell_type": "code",
   "execution_count": 4,
   "metadata": {
    "gather": {
     "logged": 1630441484705
    },
    "nteract": {
     "transient": {
      "deleting": false
     }
    }
   },
   "outputs": [],
   "source": [
    "dicom_feature_df.to_csv(\"./data/dicom_features1.csv\")"
   ]
  },
  {
   "cell_type": "markdown",
   "metadata": {},
   "source": [
    "(Optional) Visualize the image data with identfied ROI. "
   ]
  },
  {
   "cell_type": "code",
   "execution_count": null,
   "metadata": {
    "gather": {
     "logged": 1630441501940
    },
    "nteract": {
     "transient": {
      "deleting": false
     }
    }
   },
   "outputs": [],
   "source": [
    "from src.utils import dicom_sample\r\n",
    "samples[0].display() "
   ]
  },
  {
   "cell_type": "markdown",
   "metadata": {},
   "source": [
    "## 3. Feature selection. \r\n",
    "In this this part, we will perform feature selection for: <br>\r\n",
    "1. Radiomic features, <br>\r\n",
    "2. Gene expression data, <br>\r\n",
    "3. VCF data. "
   ]
  },
  {
   "cell_type": "markdown",
   "metadata": {},
   "source": [
    "#### 3.1 DICOM features clustering and feature selection"
   ]
  },
  {
   "cell_type": "code",
   "execution_count": 2,
   "metadata": {
    "gather": {
     "logged": 1630441533807
    }
   },
   "outputs": [
    {
     "data": {
      "image/png": "[encoded data removed]",
      "text/plain": [
       "<Figure size 360x360 with 4 Axes>"
      ]
     },
     "metadata": {
      "needs_background": "light"
     },
     "output_type": "display_data"
    }
   ],
   "source": [
    "import pandas as pd\r\n",
    "import seaborn as sns\r\n",
    "dicom_feature= pd.read_csv(\"./data/dicom_features1.csv\", header=0, index_col=0)\r\n",
    "dicom_feature_similarities = dicom_feature.corr() \r\n",
    "pp = sns.clustermap(dicom_feature_similarities, linewidths=.5, figsize=(5,5))\r\n",
    "_ = plt.setp(pp.ax_heatmap.get_yticklabels(), rotation=0)\r\n",
    "\r\n",
    "plt.show()\r\n"
   ]
  },
  {
   "cell_type": "markdown",
   "metadata": {},
   "source": [
    "#### 3.2 Gene expression feature selection\r\n",
    "For gene expression data, we perform clustering and extract \"meta-gene\" for each cluster. We are using the meta-genes as representative features. In the following cell, we:<br>\r\n",
    "3.2a Loading the gene expression data.<br>\r\n",
    "3.2b Perform and visualize the clustering, in order to use the number of clusters to use.<br>\r\n",
    "3.2c Choose the number of clusters touse, and extract the mata-genes. "
   ]
  },
  {
   "cell_type": "markdown",
   "metadata": {},
   "source": [
    "#### 3.2a Loading gene expression data to a data frame. Merge the comman samples with this the image data. "
   ]
  },
  {
   "cell_type": "code",
   "execution_count": 7,
   "metadata": {
    "gather": {
     "logged": 1630441540707
    },
    "nteract": {
     "transient": {
      "deleting": false
     }
    }
   },
   "outputs": [],
   "source": [
    "#loading gene expression and clinical \r\n",
    "rna_seq = pd.read_table('./dataSample_RNAseq.txt',  header=0)\r\n",
    "rna_seq  = rna_seq.set_index('Gene').transpose()\r\n"
   ]
  },
  {
   "cell_type": "markdown",
   "metadata": {},
   "source": [
    "#### 3.2b Clustering and visualization of gene expression. \r\n",
    "The following cell performs standard quality control, clustering and visualization on gene expression data. It plots the top 5 levels of the hierarchical  clustering results. (__plot_level__ = 5). <br>\r\n",
    "After plotting, one could decide the number of clusters (__n_clusters__) to fix on (30 in this demo). \r\n"
   ]
  },
  {
   "cell_type": "code",
   "execution_count": 8,
   "metadata": {
    "gather": {
     "logged": 1630441631749
    },
    "nteract": {
     "transient": {
      "deleting": false
     }
    }
   },
   "outputs": [
    {
     "data": {
      "image/png": "[encoded data removed]",
      "text/plain": [
       "<Figure size 432x288 with 1 Axes>"
      ]
     },
     "metadata": {
      "needs_background": "light"
     },
     "output_type": "display_data"
    },
    {
     "data": {
      "text/plain": [
       "<Figure size 921.6x345.6 with 0 Axes>"
      ]
     },
     "metadata": {},
     "output_type": "display_data"
    }
   ],
   "source": [
    "#clustering for gene expression\r\n",
    "import scipy\r\n",
    "import scipy.cluster.hierarchy as hier \r\n",
    "import pylab as pl\r\n",
    "import seaborn as sns\r\n",
    "from scipy.cluster.hierarchy import dendrogram\r\n",
    "from scipy.spatial import distance_matrix\r\n",
    "from sklearn.metrics.pairwise import nan_euclidean_distances \r\n",
    "from sklearn.metrics import pairwise_distances\r\n",
    "from sklearn.cluster import AgglomerativeClustering\r\n",
    "\r\n",
    "\r\n",
    "\r\n",
    "def plot_dendrogram(model, **kwargs):\r\n",
    "    # Create linkage matrix and then plot the dendrogram\r\n",
    "\r\n",
    "    # create the counts of samples under each node\r\n",
    "    counts = np.zeros(model.children_.shape[0])\r\n",
    "    n_samples = len(model.labels_)\r\n",
    "    for i, merge in enumerate(model.children_):\r\n",
    "        current_count = 0\r\n",
    "        for child_idx in merge:\r\n",
    "            if child_idx < n_samples:\r\n",
    "                current_count += 1  # leaf node\r\n",
    "            else:\r\n",
    "                current_count += counts[child_idx - n_samples]\r\n",
    "        counts[i] = current_count\r\n",
    "\r\n",
    "    linkage_matrix = np.column_stack([model.children_, model.distances_,\r\n",
    "                                      counts]).astype(float)\r\n",
    "    #print(linkage_matrix)\r\n",
    "    # Plot the corresponding dendrogram\r\n",
    "    dendrogram(linkage_matrix, **kwargs)\r\n",
    "\r\n",
    "\r\n",
    "\r\n",
    "temp = rna_seq.loc[:, rna_seq.isnull().mean()< .5]\r\n",
    "D = 1-temp.corr()\r\n",
    "clustering = AgglomerativeClustering(n_clusters=None,affinity  ='precomputed' , linkage= 'average', distance_threshold=0)\r\n",
    "clustering = clustering.fit(D) \r\n",
    "plot_level = 5\r\n",
    "plot_dendrogram(clustering,truncate_mode='level', p=plot_level)\r\n",
    "plt.figure(figsize=(12.8,4.8))\r\n",
    "plt.show()\r\n",
    "clustering = AgglomerativeClustering(n_clusters=30,affinity  ='precomputed' , linkage= 'average')\r\n",
    "clustering = clustering.fit(D)"
   ]
  },
  {
   "cell_type": "markdown",
   "metadata": {},
   "source": [
    "(Optional) Run the following cell to check the number of genes fall in each cluster to chech if the number of clusters are chosen reasonably. "
   ]
  },
  {
   "cell_type": "code",
   "execution_count": 9,
   "metadata": {
    "gather": {
     "logged": 1630441638914
    },
    "nteract": {
     "transient": {
      "deleting": false
     }
    }
   },
   "outputs": [
    {
     "name": "stdout",
     "output_type": "stream",
     "text": [
      "Counter({5: 4926, 0: 3701, 1: 1960, 2: 1288, 8: 229, 29: 84, 3: 83, 7: 64, 13: 55, 9: 49, 11: 47, 24: 45, 10: 42, 4: 40, 28: 38, 12: 37, 21: 33, 27: 31, 26: 30, 22: 30, 6: 28, 14: 28, 25: 26, 20: 21, 18: 15, 23: 14, 16: 13, 19: 12, 17: 11, 15: 4})\n"
     ]
    }
   ],
   "source": [
    "from collections import Counter \r\n",
    "gene_cluster_size =  Counter(clustering.labels_)\r\n",
    "print(gene_cluster_size)"
   ]
  },
  {
   "cell_type": "markdown",
   "metadata": {
    "nteract": {
     "transient": {
      "deleting": false
     }
    }
   },
   "source": [
    "#### 3.2c Extract Metagene for each cluster with factor analysis\r\n",
    "For each cluster, perform factor analysis (PCA), and use the first principle component as the meta gene. "
   ]
  },
  {
   "cell_type": "code",
   "execution_count": 10,
   "metadata": {
    "gather": {
     "logged": 1630441641728
    },
    "nteract": {
     "transient": {
      "deleting": false
     }
    }
   },
   "outputs": [],
   "source": [
    "from sklearn.decomposition import PCA\r\n",
    "from sklearn import manifold\r\n",
    "from sklearn.metrics import euclidean_distances\r\n",
    "genes = rna_seq.loc[:, rna_seq.isnull().mean()< .5]\r\n",
    "index_list= np.intersect1d(dicom_feature.index, rna_seq.index)\r\n",
    "genes =  genes.reindex(index =index_list)\r\n",
    "\r\n",
    "N = genes.shape[0]\r\n",
    "n_clusters = 30\r\n",
    "metagenes =[]\r\n",
    "for i in range(n_clusters):\r\n",
    "    geneset = genes.loc[:, clustering.labels_==i ]\r\n",
    "    similarities  = geneset.transpose().corr() \r\n",
    "    mds = manifold.MDS(n_components=1, dissimilarity = 'precomputed')\r\n",
    "    embedding = np.array(mds.fit_transform(similarities)).transpose()\r\n",
    "    metagenes.append(embedding)\r\n",
    "metagenes = np.array(metagenes).reshape(N, n_clusters)\r\n",
    "column_names = [\"Metagene\"+str(i) for i in range (30)]\r\n",
    "metagenes = pd.DataFrame(metagenes, index = index_list, columns=column_names)"
   ]
  },
  {
   "cell_type": "code",
   "execution_count": 11,
   "metadata": {
    "gather": {
     "logged": 1630441644120
    }
   },
   "outputs": [
    {
     "name": "stdout",
     "output_type": "stream",
     "text": [
      "3\n"
     ]
    }
   ],
   "source": [
    "print (len (index_list))"
   ]
  },
  {
   "cell_type": "markdown",
   "metadata": {},
   "source": [
    "#### 3.3 Genetic feature\r\n",
    "In this section, we perform stardard control on the genetic data, and use the eigenvectors of the LD(Linkage disequilibrium) with customer specified window size. "
   ]
  },
  {
   "cell_type": "markdown",
   "metadata": {},
   "source": [
    "Download the genetic data to local position. "
   ]
  },
  {
   "cell_type": "code",
   "execution_count": null,
   "metadata": {},
   "outputs": [],
   "source": [
    "pip install azure-storage-blob==2.1.0"
   ]
  },
  {
   "cell_type": "code",
   "execution_count": null,
   "metadata": {},
   "outputs": [],
   "source": [
    "from azure.storage.blob import BlockBlobService, PublicAccess\r\n",
    "blob_service_client = BlockBlobService(account_name='dataset1000genomes', sas_token='sv=2019-10-10&si=prod&sr=c&sig=9nzcxaQn0NprMPlSh4RhFQHcXedLQIcFgbERiooHEqM%3D')     \r\n",
    "blob_service_client.get_blob_to_path('dataset/release/20130502' ,'ALL.chr22.phase3_shapeit2_mvncall_integrated_v5b.20130502.genotypes.vcf.gz','./ALL.chr22.phase3.vcf.gz')"
   ]
  },
  {
   "cell_type": "code",
   "execution_count": null,
   "metadata": {},
   "outputs": [],
   "source": [
    "blob_service_client.get_blob_to_path('dataset/release/20130502' ,'ALL.chr22.phase3_shapeit2_mvncall_integrated_v5b.20130502.genotypes.vcf.gz.tbi','./ALL.chr22.phase3.vcf.gz.tbi')"
   ]
  },
  {
   "cell_type": "code",
   "execution_count": null,
   "metadata": {},
   "outputs": [],
   "source": [
    "!wget https://github.com/broadinstitute/gatk/releases/download/4.2.2.0/gatk-4.2.2.0.zip"
   ]
  },
  {
   "cell_type": "code",
   "execution_count": null,
   "metadata": {},
   "outputs": [],
   "source": [
    "!unzip gatk-4.2.2.0.zip"
   ]
  },
  {
   "cell_type": "code",
   "execution_count": null,
   "metadata": {},
   "outputs": [],
   "source": [
    "#!./gatk-4.2.2.0/gatk SelectVariants -V ./ALL.chr22.phase3.vcf.gz --select-type SNP   --selectExpressions \" AF > 0.1 \" -O selected.vcf\r\n",
    "!./gatk-4.2.2.0/gatk VariantsToTable -V ALL.chr22.phase3.vcf.gz -F CHROM -F POS -F ALT -F AF -F TYPE -GF GT  -O all.table\r\n"
   ]
  },
  {
   "cell_type": "code",
   "execution_count": 12,
   "metadata": {},
   "outputs": [],
   "source": [
    "!awk '{if ($5==\"SNP\" && $4 > 0.1) print $0}' all.table | cut -f 1-155 > ./data/geno.sample"
   ]
  },
  {
   "cell_type": "markdown",
   "metadata": {},
   "source": [
    "### Convert the genotype to allele counts, standardize the genotype matrix "
   ]
  },
  {
   "cell_type": "code",
   "execution_count": 13,
   "metadata": {},
   "outputs": [
    {
     "name": "stdout",
     "output_type": "stream",
     "text": [
      "(113, 150)\n"
     ]
    }
   ],
   "source": [
    "import pandas as pd \r\n",
    "import numpy as np \r\n",
    "genotype_vcf= pd.read_table(\"./data/geno.sample\")\r\n",
    "geno = np.zeros((genotype_vcf.shape[0], genotype_vcf.shape[1]-5))\r\n",
    "print(geno.shape)\r\n",
    "for i in range(geno.shape[0]):\r\n",
    "    for j in range(geno.shape[1]):\r\n",
    "        geno[i,j] = genotype_vcf.iloc[i, j+5].count(genotype_vcf.iloc[i,2])\r\n",
    "        \r\n",
    "np.savetxt(\"./data/geno.txt\", geno.astype(int),  fmt='%i' ,delimiter=\",\") "
   ]
  },
  {
   "cell_type": "code",
   "execution_count": null,
   "metadata": {},
   "outputs": [],
   "source": [
    "geno  = geno  - np.mean(geno, axis =1, keepdims= True) \r\n",
    "geno = geno / np.std(geno, axis=1, keepdims=True)\r\n",
    "np.savetxt(\"./data/geno_standard.txt\", geno, delimiter=\",\")"
   ]
  },
  {
   "cell_type": "code",
   "execution_count": 15,
   "metadata": {
    "gather": {
     "logged": 1630442779809
    },
    "nteract": {
     "transient": {
      "deleting": false
     }
    }
   },
   "outputs": [],
   "source": [
    "geno = np.genfromtxt(\"./data/geno_standard.txt\", delimiter=',')"
   ]
  },
  {
   "cell_type": "code",
   "execution_count": 16,
   "metadata": {
    "gather": {
     "logged": 1630442790761
    }
   },
   "outputs": [],
   "source": [
    "from sklearn.decomposition import PCA\r\n",
    "from sklearn import manifold\r\n",
    "from sklearn.metrics import euclidean_distances\r\n",
    "N = len(index_list)\r\n",
    "window_size = 500\r\n",
    "snp_num = geno.shape[0]\r\n",
    "geno_block=[]\r\n",
    "block_num = 0 \r\n",
    "for i in range(0, snp_num, window_size): \r\n",
    "    end_idx = min(snp_num, i +window_size)\r\n",
    "    geno_cur = geno[i:end_idx,0:N]\r\n",
    "    geno_cur = pd.DataFrame(geno_cur)\r\n",
    "    similarities  = geno_cur.corr() \r\n",
    "    mds = manifold.MDS(n_components=1, dissimilarity = 'precomputed')\r\n",
    "    embedding = np.array(mds.fit_transform(similarities)).transpose()\r\n",
    "    geno_block.append(embedding)\r\n",
    "    block_num = block_num+1\r\n",
    "geno_block = np.array(geno_block).reshape(N, block_num)\r\n",
    "column_names = [\"LDblock\"+str(i) for i in range (block_num)]\r\n",
    "geno_block = pd.DataFrame(geno_block, index = index_list, columns=column_names)"
   ]
  },
  {
   "cell_type": "markdown",
   "metadata": {
    "nteract": {
     "transient": {
      "deleting": false
     }
    }
   },
   "source": [
    "## 4. Disease subtype analysis: Clustering on patient\r\n",
    "This part we merge the radiomic ,VCF  and gene expression feature we extracted ealier. We perform clustering to identify subtype of patients. "
   ]
  },
  {
   "cell_type": "code",
   "execution_count": null,
   "metadata": {
    "gather": {
     "logged": 1630442795419
    }
   },
   "outputs": [],
   "source": [
    "X = pd.concat([dicom_feature.reindex(index = index_list),metagenes, geno_block], axis=1, join = \"inner\")\r\n",
    "print(X.shape)\r\n",
    "all_feature_similarities = X.transpose().corr() \r\n",
    "pp = sns.clustermap(all_feature_similarities, linewidths=.5, figsize=(5,5))\r\n",
    "_ = plt.setp(pp.ax_heatmap.get_yticklabels(), rotation=0)\r\n",
    "\r\n",
    "plt.show()"
   ]
  },
  {
   "cell_type": "markdown",
   "metadata": {},
   "source": [
    "## Reference libraries"
   ]
  },
  {
   "cell_type": "markdown",
   "metadata": {},
   "source": [
    "1. Pydicom:https://pydicom.github.io/about\n",
    "2. Pandas: https://pandas.pydata.org/\n",
    "3. Numpy: https://numpy.org/"
   ]
  },
  {
   "cell_type": "markdown",
   "metadata": {},
   "source": [
    "### END OF NOTEBOOK \n"
   ]
  },
  {
   "cell_type": "markdown",
   "metadata": {},
   "source": [
    "## Notices"
   ]
  },
  {
   "cell_type": "markdown",
   "metadata": {},
   "source": [
    "THIS NOTEBOOK JUST PROVIDE A SAMPLE CODES FOR EDUCATIONAL PURPOSES. MICROSOFT DOES NOT CLAIM ANY OWNERSHIP ON THESE CODES AND LIBRARIES. MICROSOFT PROVIDES THIS NOTEBOOK AND SAMPLE USE OF ML LIBRARIES, SRC/utils.py codes ON AN “AS IS” BASIS. DATA OR ANY MATERIAL ON THIS NOTEBOOK. MICROSOFT MAKES NO WARRANTIES, EXPRESS OR IMPLIED, GUARANTEES OR CONDITIONS WITH RESPECT TO YOUR USE OF THIS NOTEBOOK. TO THE EXTENT PERMITTED UNDER YOUR LOCAL LAW, MICROSOFT DISCLAIMS ALL LIABILITY FOR ANY DAMAGES OR LOSSES, INCLUDING DIRECT, CONSEQUENTIAL, SPECIAL, INDIRECT, INCIDENTAL OR PUNITIVE, RESULTING FROM YOUR USE OF THIS NOTEBOOK.\n",
    "\n",
    "Notebook prepared by Ariel WU- Research Intern- Microsoft Genomics"
   ]
  }
 ],
 "metadata": {
  "interpreter": {
   "hash": "1a95a24c70a176160c1d6e5248d6f3ba93a8eb5545315449168c777f5b44464e"
  },
  "kernel_info": {
   "name": "python38-azureml"
  },
  "kernelspec": {
   "display_name": "Python 3.8 - AzureML",
   "language": "python",
   "name": "python38-azureml"
  },
  "language_info": {
   "codemirror_mode": {
    "name": "ipython",
    "version": 3
   },
   "file_extension": ".py",
   "mimetype": "text/x-python",
   "name": "python",
   "nbconvert_exporter": "python",
   "pygments_lexer": "ipython3",
   "version": "3.8.1"
  },
  "microsoft": {
   "host": {
    "AzureML": {
     "notebookHasBeenCompleted": true
    }
   }
  },
  "nteract": {
   "version": "nteract-front-end@1.0.0"
  }
 },
 "nbformat": 4,
 "nbformat_minor": 4
}
