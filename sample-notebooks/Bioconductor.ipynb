{
 "cells": [
  {
   "cell_type": "markdown",
   "metadata": {},
   "source": [
    "# Using Bioconductor images on Azure \n",
    "\n",
    "## Featured Tags\n",
    "  \n",
    "  - latest `docker pull mcr.microsoft.com/bioconductor/bioconductor_docker:latest`\n",
    "\n",
    "## About bioconductor\n",
    "Bioconductor provides tools for the analysis and comprehension of high-throughput genomic data. Bioconductor uses the R statistical programming language, and is open source and open development. It has two releases each year, and an active user community. We're now offering a mirror of the official `Bioconductor` docker image on Microsoft Container Registry. This image can also be used as a base for your own custom genomics related docker images.\n",
    "\n",
    "**Useful links for Bioconductor**\n",
    "\n",
    "1. [Bioconductor webpage](https://www.bioconductor.org)\n",
    "\n",
    "2. [Official Bioconductor docker image](https://hub.docker.com/u/bioconductor)\n",
    "\n",
    "3. [For more information about Bioconductor and docker images](https://bioconductor.org/help/docker)\n",
    "\n",
    "## Related Repos\n",
    " - [Official Bioconductor docker image](https://hub.docker.com/r/bioconductor/bioconductor_docker)\n",
    " \n",
    " - [Bioconductor docker image on Microsoft Container Registry](https://hub.docker.com/_/microsoft-bioconductor)\n",
    "\n",
    "## How to Use this Image\n",
    "\n",
    "**Official Bioconductor docker image mirrored on Microsoft Container Registry** \n",
    "\n",
    "*Pull the 'bioconductor_docker' image from Microsoft Container Registry*\n",
    "\n"
   ]
  },
  {
   "cell_type": "code",
   "execution_count": null,
   "metadata": {},
   "outputs": [],
   "source": [
    "!docker pull mcr.microsoft.com/bioconductor/bioconductor_docker:latest"
   ]
  },
  {
   "cell_type": "markdown",
   "metadata": {},
   "source": [
    "\n",
    "**Sample: Run RStudio interactively from your docker container**\n",
    "\n",
    "To run RStudio in a web browser session, run the following and access it from `127.0.0.1:8787`. The default user name is \"rstudio\" and you can specify your password as the example below (here, it is set to 'bioc'):\n",
    "```\n",
    "docker run --name bioconductor_docker_rstudio \\\n",
    "      -v ~/host-site-library:/usr/local/lib/R/host-site-library \\\n",
    "      -e PASSWORD='bioc'                               \\\n",
    "      -p 8787:8787                                     \\\n",
    "      mcr.microsoft.com/bioconductor/bioconductor_docker:latest\n",
    "```\n",
    "\n",
    "To run RStudio on your terminal:\n",
    "```\n",
    "docker run --name bioconductor_docker_rstudio \\\n",
    "      -it                                            \\\n",
    "      -v ~/host-site-library:/usr/local/lib/R/host-site-library \\\n",
    "      -e PASSWORD='bioc'                               \\\n",
    "      -p 8787:8787                                     \\\n",
    "      mcr.microsoft.com/bioconductor/bioconductor_docker:latest R \n",
    "```\n"
   ]
  },
  {
   "cell_type": "markdown",
   "metadata": {},
   "source": [
    "## Support and feedback\n",
    "If you have any problems with or questions about this image OR to provide feedback, please contact us through an [e-mail](mailto:genomics@microsoft.com).\n",
    "\n"
   ]
  },
  {
   "cell_type": "markdown",
   "metadata": {},
   "source": [
    "## License\n",
    "Microsoft is mirroring the official Bioconductor docker image for Azure users. You can find the licensing details from [Official Bioconductor Package Guidelines](https://www.bioconductor.org/developers/package-guidelines/)"
   ]
  }
 ],
 "metadata": {
  "jupytext": {
   "cell_metadata_filter": "-all",
   "notebook_metadata_filter": "-all",
   "text_representation": {
    "extension": ".md",
    "format_name": "markdown"
   }
  },
  "kernelspec": {
   "display_name": "Python 3.6 - AzureML",
   "language": "python",
   "name": "python3-azureml"
  },
  "language_info": {
   "codemirror_mode": {
    "name": "ipython",
    "version": 3
   },
   "file_extension": ".py",
   "mimetype": "text/x-python",
   "name": "python",
   "nbconvert_exporter": "python",
   "pygments_lexer": "ipython3",
   "version": "3.6.9"
  }
 },
 "nbformat": 4,
 "nbformat_minor": 4
}
